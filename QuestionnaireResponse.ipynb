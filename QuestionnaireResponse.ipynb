{
 "cells": [
  {
   "cell_type": "markdown",
   "id": "96fd8130-4618-40c3-83a7-42f6d5598bdb",
   "metadata": {},
   "source": [
    "# IRIS FHIR SQL Builder, Analyzing FHIR QuestionnaireResponse "
   ]
  },
  {
   "cell_type": "markdown",
   "id": "6045e6c1-b372-4cf2-a557-534318d5fbc9",
   "metadata": {},
   "source": [
    "### 1. Install Libraries"
   ]
  },
  {
   "cell_type": "markdown",
   "id": "9c741256",
   "metadata": {},
   "source": [
    "Make sure that you choose the virtual environment with juypter installed first.  \n",
    "\n",
    "pip install notebook ipykernel  \n",
    "Register the venv so Jupyter can see it:  \n",
    "python -m ipykernel install --user --name=myenv --display-name \"Python (myenv)\"  \n",
    "Replace \"myenv\" with a name you’ll recognize (like \"FHIR venv\")."
   ]
  },
  {
   "cell_type": "markdown",
   "id": "960b2218",
   "metadata": {},
   "source": [
    "##### 1.1. List your installed Python modules"
   ]
  },
  {
   "cell_type": "code",
   "execution_count": 36,
   "id": "931e3ff4",
   "metadata": {},
   "outputs": [
    {
     "name": "stdout",
     "output_type": "stream",
     "text": [
      "Package                 Version\n",
      "----------------------- -----------\n",
      "antlr4-python3-runtime  4.13.2\n",
      "appnope                 0.1.4\n",
      "argcomplete             3.5.2\n",
      "asttokens               3.0.0\n",
      "Authlib                 1.6.0\n",
      "blinker                 1.9.0\n",
      "certifi                 2025.7.14\n",
      "cffi                    1.17.1\n",
      "charset-normalizer      3.4.2\n",
      "click                   8.1.7\n",
      "comm                    0.2.3\n",
      "contourpy               1.3.3\n",
      "cryptography            45.0.5\n",
      "cycler                  0.12.1\n",
      "debugpy                 1.8.16\n",
      "decorator               5.2.1\n",
      "dnspython               2.7.0\n",
      "email_validator         2.2.0\n",
      "executing               2.2.1\n",
      "fhir.resources          6.1.0\n",
      "fhirpathpy              2.0.2\n",
      "Flask                   3.1.1\n",
      "fonttools               4.59.2\n",
      "idna                    3.10\n",
      "intersystems-irispython 3.2.0\n",
      "ipykernel               6.30.1\n",
      "ipython                 9.5.0\n",
      "ipython_pygments_lexers 1.1.1\n",
      "itsdangerous            2.2.0\n",
      "jedi                    0.19.2\n",
      "Jinja2                  3.1.6\n",
      "jupyter_client          8.6.3\n",
      "jupyter_core            5.8.1\n",
      "jwcrypto                1.5.6\n",
      "kiwisolver              1.4.9\n",
      "linkify-it-py           2.0.3\n",
      "markdown-it-py          3.0.0\n",
      "MarkupSafe              3.0.2\n",
      "matplotlib              3.10.6\n",
      "matplotlib-inline       0.1.7\n",
      "mdit-py-plugins         0.4.2\n",
      "mdurl                   0.1.2\n",
      "ndjson                  0.3.1\n",
      "nest-asyncio            1.6.0\n",
      "numpy                   2.3.2\n",
      "packaging               24.2\n",
      "pandas                  2.3.2\n",
      "parso                   0.8.5\n",
      "pexpect                 4.9.0\n",
      "pillow                  11.3.0\n",
      "pip                     24.3.1\n",
      "pipx                    1.7.1\n",
      "platformdirs            4.3.6\n",
      "prompt_toolkit          3.0.52\n",
      "psutil                  7.0.0\n",
      "ptyprocess              0.7.0\n",
      "pure_eval               0.2.3\n",
      "pycparser               2.22\n",
      "pydantic                1.10.22\n",
      "Pygments                2.19.2\n",
      "PyJWT                   2.10.1\n",
      "pyparsing               3.2.3\n",
      "python-dateutil         2.9.0.post0\n",
      "python-dotenv           1.1.1\n",
      "pytz                    2025.2\n",
      "pyzmq                   27.0.2\n",
      "requests                2.32.4\n",
      "rich                    14.0.0\n",
      "six                     1.17.0\n",
      "stack-data              0.6.3\n",
      "textual                 4.0.0\n",
      "tornado                 6.5.2\n",
      "traitlets               5.14.3\n",
      "typing_extensions       4.14.1\n",
      "tzdata                  2025.2\n",
      "uc-micro-py             1.0.3\n",
      "urllib3                 2.5.0\n",
      "userpath                1.9.2\n",
      "wcwidth                 0.2.13\n",
      "Werkzeug                3.1.3\n",
      "Note: you may need to restart the kernel to use updated packages.\n"
     ]
    }
   ],
   "source": [
    "pip list"
   ]
  },
  {
   "cell_type": "markdown",
   "id": "3f98a9ce",
   "metadata": {},
   "source": [
    "##### 1.2. Install any missing libraries (if not done previously)"
   ]
  },
  {
   "cell_type": "code",
   "execution_count": 37,
   "id": "5a0a06b4",
   "metadata": {},
   "outputs": [
    {
     "name": "stdout",
     "output_type": "stream",
     "text": [
      "Requirement already satisfied: pandas in /Users/pjamieso/.pyenv/versions/3.12.8/lib/python3.12/site-packages (2.3.2)\n",
      "Requirement already satisfied: numpy>=1.26.0 in /Users/pjamieso/.pyenv/versions/3.12.8/lib/python3.12/site-packages (from pandas) (2.3.2)\n",
      "Requirement already satisfied: python-dateutil>=2.8.2 in /Users/pjamieso/.pyenv/versions/3.12.8/lib/python3.12/site-packages (from pandas) (2.9.0.post0)\n",
      "Requirement already satisfied: pytz>=2020.1 in /Users/pjamieso/.pyenv/versions/3.12.8/lib/python3.12/site-packages (from pandas) (2025.2)\n",
      "Requirement already satisfied: tzdata>=2022.7 in /Users/pjamieso/.pyenv/versions/3.12.8/lib/python3.12/site-packages (from pandas) (2025.2)\n",
      "Requirement already satisfied: six>=1.5 in /Users/pjamieso/.pyenv/versions/3.12.8/lib/python3.12/site-packages (from python-dateutil>=2.8.2->pandas) (1.17.0)\n",
      "\n",
      "\u001b[1m[\u001b[0m\u001b[34;49mnotice\u001b[0m\u001b[1;39;49m]\u001b[0m\u001b[39;49m A new release of pip is available: \u001b[0m\u001b[31;49m24.3.1\u001b[0m\u001b[39;49m -> \u001b[0m\u001b[32;49m25.2\u001b[0m\n",
      "\u001b[1m[\u001b[0m\u001b[34;49mnotice\u001b[0m\u001b[1;39;49m]\u001b[0m\u001b[39;49m To update, run: \u001b[0m\u001b[32;49mpip install --upgrade pip\u001b[0m\n",
      "Note: you may need to restart the kernel to use updated packages.\n"
     ]
    }
   ],
   "source": [
    "pip install pandas"
   ]
  },
  {
   "cell_type": "code",
   "execution_count": 38,
   "id": "2ad8e169",
   "metadata": {},
   "outputs": [
    {
     "name": "stdout",
     "output_type": "stream",
     "text": [
      "Requirement already satisfied: numpy in /Users/pjamieso/.pyenv/versions/3.12.8/lib/python3.12/site-packages (2.3.2)\n",
      "\n",
      "\u001b[1m[\u001b[0m\u001b[34;49mnotice\u001b[0m\u001b[1;39;49m]\u001b[0m\u001b[39;49m A new release of pip is available: \u001b[0m\u001b[31;49m24.3.1\u001b[0m\u001b[39;49m -> \u001b[0m\u001b[32;49m25.2\u001b[0m\n",
      "\u001b[1m[\u001b[0m\u001b[34;49mnotice\u001b[0m\u001b[1;39;49m]\u001b[0m\u001b[39;49m To update, run: \u001b[0m\u001b[32;49mpip install --upgrade pip\u001b[0m\n",
      "Note: you may need to restart the kernel to use updated packages.\n"
     ]
    }
   ],
   "source": [
    "pip install numpy"
   ]
  },
  {
   "cell_type": "code",
   "execution_count": 39,
   "id": "da425fed",
   "metadata": {},
   "outputs": [
    {
     "name": "stdout",
     "output_type": "stream",
     "text": [
      "Requirement already satisfied: matplotlib in /Users/pjamieso/.pyenv/versions/3.12.8/lib/python3.12/site-packages (3.10.6)\n",
      "Requirement already satisfied: contourpy>=1.0.1 in /Users/pjamieso/.pyenv/versions/3.12.8/lib/python3.12/site-packages (from matplotlib) (1.3.3)\n",
      "Requirement already satisfied: cycler>=0.10 in /Users/pjamieso/.pyenv/versions/3.12.8/lib/python3.12/site-packages (from matplotlib) (0.12.1)\n",
      "Requirement already satisfied: fonttools>=4.22.0 in /Users/pjamieso/.pyenv/versions/3.12.8/lib/python3.12/site-packages (from matplotlib) (4.59.2)\n",
      "Requirement already satisfied: kiwisolver>=1.3.1 in /Users/pjamieso/.pyenv/versions/3.12.8/lib/python3.12/site-packages (from matplotlib) (1.4.9)\n",
      "Requirement already satisfied: numpy>=1.23 in /Users/pjamieso/.pyenv/versions/3.12.8/lib/python3.12/site-packages (from matplotlib) (2.3.2)\n",
      "Requirement already satisfied: packaging>=20.0 in /Users/pjamieso/.local/lib/python3.12/site-packages (from matplotlib) (24.2)\n",
      "Requirement already satisfied: pillow>=8 in /Users/pjamieso/.pyenv/versions/3.12.8/lib/python3.12/site-packages (from matplotlib) (11.3.0)\n",
      "Requirement already satisfied: pyparsing>=2.3.1 in /Users/pjamieso/.pyenv/versions/3.12.8/lib/python3.12/site-packages (from matplotlib) (3.2.3)\n",
      "Requirement already satisfied: python-dateutil>=2.7 in /Users/pjamieso/.pyenv/versions/3.12.8/lib/python3.12/site-packages (from matplotlib) (2.9.0.post0)\n",
      "Requirement already satisfied: six>=1.5 in /Users/pjamieso/.pyenv/versions/3.12.8/lib/python3.12/site-packages (from python-dateutil>=2.7->matplotlib) (1.17.0)\n",
      "\n",
      "\u001b[1m[\u001b[0m\u001b[34;49mnotice\u001b[0m\u001b[1;39;49m]\u001b[0m\u001b[39;49m A new release of pip is available: \u001b[0m\u001b[31;49m24.3.1\u001b[0m\u001b[39;49m -> \u001b[0m\u001b[32;49m25.2\u001b[0m\n",
      "\u001b[1m[\u001b[0m\u001b[34;49mnotice\u001b[0m\u001b[1;39;49m]\u001b[0m\u001b[39;49m To update, run: \u001b[0m\u001b[32;49mpip install --upgrade pip\u001b[0m\n",
      "Note: you may need to restart the kernel to use updated packages.\n"
     ]
    }
   ],
   "source": [
    "pip install matplotlib"
   ]
  },
  {
   "cell_type": "markdown",
   "id": "b4c4cd3c",
   "metadata": {},
   "source": [
    "##### 1.3. Install the IRIS DB-API driver"
   ]
  },
  {
   "cell_type": "markdown",
   "id": "fea76769",
   "metadata": {},
   "source": [
    "In case you don't have the intersystems-irispython package installed yet, download the DB-API driver from\n",
    "https://intersystems-community.github.io/iris-driver-distribution/\n",
    "and place it into the directory of your jupyter notebook file. Then run the following pip command:"
   ]
  },
  {
   "cell_type": "code",
   "execution_count": 40,
   "id": "5a253faa",
   "metadata": {},
   "outputs": [
    {
     "name": "stdout",
     "output_type": "stream",
     "text": [
      "Processing ./intersystems_irispython-3.2.0-py3-none-any.whl\n",
      "intersystems-irispython is already installed with the same version as the provided wheel. Use --force-reinstall to force an installation of the wheel.\n",
      "\n",
      "\u001b[1m[\u001b[0m\u001b[34;49mnotice\u001b[0m\u001b[1;39;49m]\u001b[0m\u001b[39;49m A new release of pip is available: \u001b[0m\u001b[31;49m24.3.1\u001b[0m\u001b[39;49m -> \u001b[0m\u001b[32;49m25.2\u001b[0m\n",
      "\u001b[1m[\u001b[0m\u001b[34;49mnotice\u001b[0m\u001b[1;39;49m]\u001b[0m\u001b[39;49m To update, run: \u001b[0m\u001b[32;49mpip install --upgrade pip\u001b[0m\n",
      "Note: you may need to restart the kernel to use updated packages.\n"
     ]
    }
   ],
   "source": [
    "pip install intersystems_irispython-3.2.0-py3-none-any.whl"
   ]
  },
  {
   "cell_type": "code",
   "execution_count": null,
   "id": "4ae44f2e",
   "metadata": {},
   "outputs": [],
   "source": []
  },
  {
   "cell_type": "markdown",
   "id": "01b0c942",
   "metadata": {},
   "source": [
    "### 2. Import Libraries"
   ]
  },
  {
   "cell_type": "code",
   "execution_count": 41,
   "id": "817086f9-854d-44fb-af19-e0ef2272f699",
   "metadata": {},
   "outputs": [],
   "source": [
    "import warnings\n",
    "warnings.simplefilter(action='ignore')\n",
    "import pandas as pd\n",
    "import numpy as np\n",
    "import matplotlib.pyplot as plt\n",
    "from datetime import datetime"
   ]
  },
  {
   "cell_type": "markdown",
   "id": "c71de71c",
   "metadata": {},
   "source": [
    "### 3. Create Questionnaire Response dataframe"
   ]
  },
  {
   "cell_type": "markdown",
   "id": "093bd123",
   "metadata": {},
   "source": [
    "#### 3.1. Connect to IRIS using DB-API"
   ]
  },
  {
   "cell_type": "code",
   "execution_count": 42,
   "id": "761ca374",
   "metadata": {},
   "outputs": [],
   "source": [
    "import iris"
   ]
  },
  {
   "cell_type": "code",
   "execution_count": 43,
   "id": "5b89da71",
   "metadata": {},
   "outputs": [],
   "source": [
    "connection_string = \"127.0.0.1:1972/DEMO\"\n",
    "username = \"_system\"\n",
    "password = \"ISCDEMO\"\n",
    "connection = iris.connect(connection_string, username, password)"
   ]
  },
  {
   "cell_type": "markdown",
   "id": "47ca0088",
   "metadata": {},
   "source": []
  },
  {
   "cell_type": "code",
   "execution_count": 44,
   "id": "542f29cd",
   "metadata": {},
   "outputs": [],
   "source": [
    "sql = \"SELECT * FROM sql3.QuestionnaireResponse\"\n",
    "questionRFrame = pd.read_sql(sql, connection)"
   ]
  },
  {
   "cell_type": "code",
   "execution_count": 45,
   "id": "f227d1ff",
   "metadata": {},
   "outputs": [],
   "source": [
    "sql = \"SELECT * FROM sql3.QuestionnaireResponseItems\"\n",
    "questionRIFrame = pd.read_sql(sql, connection)"
   ]
  },
  {
   "cell_type": "markdown",
   "id": "94fc90ae-a2f0-4a3b-8feb-55e437aa77aa",
   "metadata": {},
   "source": [
    "#### 3.3. Get information about this frame"
   ]
  },
  {
   "cell_type": "markdown",
   "id": "d8bd717f",
   "metadata": {},
   "source": [
    "From now on we are working with pandas dataframes. Please don't just click through the cells, but also try to understand what is achieved with the various functions. For a detailed reference you may visit this web page:\n",
    "https://pandas.pydata.org/docs/reference/frame.html"
   ]
  },
  {
   "cell_type": "code",
   "execution_count": 46,
   "id": "5da63e14-8054-4daf-b2e5-fbbf2e8c7831",
   "metadata": {},
   "outputs": [
    {
     "name": "stdout",
     "output_type": "stream",
     "text": [
      "<class 'pandas.core.frame.DataFrame'>\n",
      "RangeIndex: 16 entries, 0 to 15\n",
      "Data columns (total 5 columns):\n",
      " #   Column                         Non-Null Count  Dtype \n",
      "---  ------                         --------------  ----- \n",
      " 0   ID                             16 non-null     int64 \n",
      " 1   Key                            16 non-null     object\n",
      " 2   QuestionnaireResponseAuthored  16 non-null     object\n",
      " 3   RowNum                         16 non-null     int64 \n",
      " 4   Status                         16 non-null     object\n",
      "dtypes: int64(2), object(3)\n",
      "memory usage: 772.0+ bytes\n"
     ]
    }
   ],
   "source": [
    "questionRFrame.info()"
   ]
  },
  {
   "cell_type": "code",
   "execution_count": 47,
   "id": "3d3febef",
   "metadata": {},
   "outputs": [
    {
     "name": "stdout",
     "output_type": "stream",
     "text": [
      "<class 'pandas.core.frame.DataFrame'>\n",
      "RangeIndex: 53 entries, 0 to 52\n",
      "Data columns (total 16 columns):\n",
      " #   Column                            Non-Null Count  Dtype  \n",
      "---  ------                            --------------  -----  \n",
      " 0   QuestionnaireResponse             53 non-null     int64  \n",
      " 1   ID                                53 non-null     object \n",
      " 2   AnswerItemAnswerValueString       1 non-null      object \n",
      " 3   AnswerItemLinkId                  1 non-null      object \n",
      " 4   AnswerItemText                    1 non-null      object \n",
      " 5   AnswerValueCodingCode             13 non-null     object \n",
      " 6   AnswerValueCodingDisplay          13 non-null     object \n",
      " 7   AnswerValueCodingSystem           13 non-null     object \n",
      " 8   AnswerValueDecimal                26 non-null     float64\n",
      " 9   AnswerValueString                 12 non-null     object \n",
      " 10  ItemAnswerValueString             2 non-null      object \n",
      " 11  ItemLinkId                        2 non-null      object \n",
      " 12  ItemText                          2 non-null      object \n",
      " 13  LinkId                            53 non-null     object \n",
      " 14  QuestionnaireResponseItemsNumber  53 non-null     int64  \n",
      " 15  Text                              53 non-null     object \n",
      "dtypes: float64(1), int64(2), object(13)\n",
      "memory usage: 6.8+ KB\n"
     ]
    }
   ],
   "source": [
    "questionRIFrame.info()  "
   ]
  },
  {
   "cell_type": "markdown",
   "id": "bbd0a925-bdad-4b13-8bfd-bc5d2d40f5f4",
   "metadata": {},
   "source": [
    "#### 3.4. Show the first 5 rows"
   ]
  },
  {
   "cell_type": "code",
   "execution_count": 48,
   "id": "f3480d9b-432d-46c3-b9a2-c2d55378b8ba",
   "metadata": {},
   "outputs": [
    {
     "data": {
      "text/html": [
       "<div>\n",
       "<style scoped>\n",
       "    .dataframe tbody tr th:only-of-type {\n",
       "        vertical-align: middle;\n",
       "    }\n",
       "\n",
       "    .dataframe tbody tr th {\n",
       "        vertical-align: top;\n",
       "    }\n",
       "\n",
       "    .dataframe thead th {\n",
       "        text-align: right;\n",
       "    }\n",
       "</style>\n",
       "<table border=\"1\" class=\"dataframe\">\n",
       "  <thead>\n",
       "    <tr style=\"text-align: right;\">\n",
       "      <th></th>\n",
       "      <th>QuestionnaireResponse</th>\n",
       "      <th>ID</th>\n",
       "      <th>AnswerItemAnswerValueString</th>\n",
       "      <th>AnswerItemLinkId</th>\n",
       "      <th>AnswerItemText</th>\n",
       "      <th>AnswerValueCodingCode</th>\n",
       "      <th>AnswerValueCodingDisplay</th>\n",
       "      <th>AnswerValueCodingSystem</th>\n",
       "      <th>AnswerValueDecimal</th>\n",
       "      <th>AnswerValueString</th>\n",
       "      <th>ItemAnswerValueString</th>\n",
       "      <th>ItemLinkId</th>\n",
       "      <th>ItemText</th>\n",
       "      <th>LinkId</th>\n",
       "      <th>QuestionnaireResponseItemsNumber</th>\n",
       "      <th>Text</th>\n",
       "    </tr>\n",
       "  </thead>\n",
       "  <tbody>\n",
       "    <tr>\n",
       "      <th>0</th>\n",
       "      <td>70129</td>\n",
       "      <td>70129||1</td>\n",
       "      <td>None</td>\n",
       "      <td>None</td>\n",
       "      <td>None</td>\n",
       "      <td>LA15776-0</td>\n",
       "      <td>Some days</td>\n",
       "      <td>http://loinc.org</td>\n",
       "      <td>NaN</td>\n",
       "      <td>None</td>\n",
       "      <td>None</td>\n",
       "      <td>None</td>\n",
       "      <td>None</td>\n",
       "      <td>928691875025</td>\n",
       "      <td>1</td>\n",
       "      <td>Do you currently smoke cigarettes?</td>\n",
       "    </tr>\n",
       "    <tr>\n",
       "      <th>1</th>\n",
       "      <td>70129</td>\n",
       "      <td>70129||2</td>\n",
       "      <td>None</td>\n",
       "      <td>None</td>\n",
       "      <td>None</td>\n",
       "      <td>None</td>\n",
       "      <td>None</td>\n",
       "      <td>None</td>\n",
       "      <td>10.0</td>\n",
       "      <td>None</td>\n",
       "      <td>None</td>\n",
       "      <td>None</td>\n",
       "      <td>None</td>\n",
       "      <td>608974165449</td>\n",
       "      <td>2</td>\n",
       "      <td>How many cigarettes do you smoke per day now?</td>\n",
       "    </tr>\n",
       "    <tr>\n",
       "      <th>2</th>\n",
       "      <td>70129</td>\n",
       "      <td>70129||3</td>\n",
       "      <td>None</td>\n",
       "      <td>None</td>\n",
       "      <td>None</td>\n",
       "      <td>None</td>\n",
       "      <td>None</td>\n",
       "      <td>None</td>\n",
       "      <td>15.0</td>\n",
       "      <td>None</td>\n",
       "      <td>None</td>\n",
       "      <td>None</td>\n",
       "      <td>None</td>\n",
       "      <td>529023452708</td>\n",
       "      <td>3</td>\n",
       "      <td>Age started smoking PhenX</td>\n",
       "    </tr>\n",
       "    <tr>\n",
       "      <th>3</th>\n",
       "      <td>70130</td>\n",
       "      <td>70130||1</td>\n",
       "      <td>None</td>\n",
       "      <td>None</td>\n",
       "      <td>None</td>\n",
       "      <td>LA14799-3</td>\n",
       "      <td>Every day</td>\n",
       "      <td>http://loinc.org</td>\n",
       "      <td>NaN</td>\n",
       "      <td>None</td>\n",
       "      <td>None</td>\n",
       "      <td>None</td>\n",
       "      <td>None</td>\n",
       "      <td>928691875025</td>\n",
       "      <td>1</td>\n",
       "      <td>Do you currently smoke cigarettes?</td>\n",
       "    </tr>\n",
       "    <tr>\n",
       "      <th>4</th>\n",
       "      <td>70130</td>\n",
       "      <td>70130||2</td>\n",
       "      <td>None</td>\n",
       "      <td>None</td>\n",
       "      <td>None</td>\n",
       "      <td>None</td>\n",
       "      <td>None</td>\n",
       "      <td>None</td>\n",
       "      <td>10.0</td>\n",
       "      <td>None</td>\n",
       "      <td>None</td>\n",
       "      <td>None</td>\n",
       "      <td>None</td>\n",
       "      <td>608974165449</td>\n",
       "      <td>2</td>\n",
       "      <td>How many cigarettes do you smoke per day now?</td>\n",
       "    </tr>\n",
       "  </tbody>\n",
       "</table>\n",
       "</div>"
      ],
      "text/plain": [
       "   QuestionnaireResponse        ID AnswerItemAnswerValueString  \\\n",
       "0                  70129  70129||1                        None   \n",
       "1                  70129  70129||2                        None   \n",
       "2                  70129  70129||3                        None   \n",
       "3                  70130  70130||1                        None   \n",
       "4                  70130  70130||2                        None   \n",
       "\n",
       "  AnswerItemLinkId AnswerItemText AnswerValueCodingCode  \\\n",
       "0             None           None             LA15776-0   \n",
       "1             None           None                  None   \n",
       "2             None           None                  None   \n",
       "3             None           None             LA14799-3   \n",
       "4             None           None                  None   \n",
       "\n",
       "  AnswerValueCodingDisplay AnswerValueCodingSystem  AnswerValueDecimal  \\\n",
       "0                Some days        http://loinc.org                 NaN   \n",
       "1                     None                    None                10.0   \n",
       "2                     None                    None                15.0   \n",
       "3                Every day        http://loinc.org                 NaN   \n",
       "4                     None                    None                10.0   \n",
       "\n",
       "  AnswerValueString ItemAnswerValueString ItemLinkId ItemText        LinkId  \\\n",
       "0              None                  None       None     None  928691875025   \n",
       "1              None                  None       None     None  608974165449   \n",
       "2              None                  None       None     None  529023452708   \n",
       "3              None                  None       None     None  928691875025   \n",
       "4              None                  None       None     None  608974165449   \n",
       "\n",
       "   QuestionnaireResponseItemsNumber  \\\n",
       "0                                 1   \n",
       "1                                 2   \n",
       "2                                 3   \n",
       "3                                 1   \n",
       "4                                 2   \n",
       "\n",
       "                                            Text  \n",
       "0             Do you currently smoke cigarettes?  \n",
       "1  How many cigarettes do you smoke per day now?  \n",
       "2                      Age started smoking PhenX  \n",
       "3             Do you currently smoke cigarettes?  \n",
       "4  How many cigarettes do you smoke per day now?  "
      ]
     },
     "execution_count": 48,
     "metadata": {},
     "output_type": "execute_result"
    }
   ],
   "source": [
    "questionRIFrame.head()"
   ]
  },
  {
   "cell_type": "markdown",
   "id": "e664902c-5a78-4bee-92c0-e7dcb840cbae",
   "metadata": {},
   "source": [
    "#### 3.9. Find all rows that relate to whether the patient was a smoker (linkid = 928691875025)"
   ]
  },
  {
   "cell_type": "code",
   "execution_count": 49,
   "id": "16b00a9f-b568-4a4d-bf52-5bc25e6b9acc",
   "metadata": {},
   "outputs": [
    {
     "data": {
      "text/html": [
       "<div>\n",
       "<style scoped>\n",
       "    .dataframe tbody tr th:only-of-type {\n",
       "        vertical-align: middle;\n",
       "    }\n",
       "\n",
       "    .dataframe tbody tr th {\n",
       "        vertical-align: top;\n",
       "    }\n",
       "\n",
       "    .dataframe thead th {\n",
       "        text-align: right;\n",
       "    }\n",
       "</style>\n",
       "<table border=\"1\" class=\"dataframe\">\n",
       "  <thead>\n",
       "    <tr style=\"text-align: right;\">\n",
       "      <th></th>\n",
       "      <th>QuestionnaireResponse</th>\n",
       "      <th>ID</th>\n",
       "      <th>AnswerItemAnswerValueString</th>\n",
       "      <th>AnswerItemLinkId</th>\n",
       "      <th>AnswerItemText</th>\n",
       "      <th>AnswerValueCodingCode</th>\n",
       "      <th>AnswerValueCodingDisplay</th>\n",
       "      <th>AnswerValueCodingSystem</th>\n",
       "      <th>AnswerValueDecimal</th>\n",
       "      <th>AnswerValueString</th>\n",
       "      <th>ItemAnswerValueString</th>\n",
       "      <th>ItemLinkId</th>\n",
       "      <th>ItemText</th>\n",
       "      <th>LinkId</th>\n",
       "      <th>QuestionnaireResponseItemsNumber</th>\n",
       "      <th>Text</th>\n",
       "    </tr>\n",
       "  </thead>\n",
       "  <tbody>\n",
       "    <tr>\n",
       "      <th>0</th>\n",
       "      <td>70129</td>\n",
       "      <td>70129||1</td>\n",
       "      <td>None</td>\n",
       "      <td>None</td>\n",
       "      <td>None</td>\n",
       "      <td>LA15776-0</td>\n",
       "      <td>Some days</td>\n",
       "      <td>http://loinc.org</td>\n",
       "      <td>NaN</td>\n",
       "      <td>None</td>\n",
       "      <td>None</td>\n",
       "      <td>None</td>\n",
       "      <td>None</td>\n",
       "      <td>928691875025</td>\n",
       "      <td>1</td>\n",
       "      <td>Do you currently smoke cigarettes?</td>\n",
       "    </tr>\n",
       "    <tr>\n",
       "      <th>3</th>\n",
       "      <td>70130</td>\n",
       "      <td>70130||1</td>\n",
       "      <td>None</td>\n",
       "      <td>None</td>\n",
       "      <td>None</td>\n",
       "      <td>LA14799-3</td>\n",
       "      <td>Every day</td>\n",
       "      <td>http://loinc.org</td>\n",
       "      <td>NaN</td>\n",
       "      <td>None</td>\n",
       "      <td>None</td>\n",
       "      <td>None</td>\n",
       "      <td>None</td>\n",
       "      <td>928691875025</td>\n",
       "      <td>1</td>\n",
       "      <td>Do you currently smoke cigarettes?</td>\n",
       "    </tr>\n",
       "    <tr>\n",
       "      <th>6</th>\n",
       "      <td>70131</td>\n",
       "      <td>70131||1</td>\n",
       "      <td>None</td>\n",
       "      <td>None</td>\n",
       "      <td>None</td>\n",
       "      <td>LA14799-3</td>\n",
       "      <td>Every day</td>\n",
       "      <td>http://loinc.org</td>\n",
       "      <td>NaN</td>\n",
       "      <td>None</td>\n",
       "      <td>None</td>\n",
       "      <td>None</td>\n",
       "      <td>None</td>\n",
       "      <td>928691875025</td>\n",
       "      <td>1</td>\n",
       "      <td>Do you currently smoke cigarettes?</td>\n",
       "    </tr>\n",
       "    <tr>\n",
       "      <th>9</th>\n",
       "      <td>70132</td>\n",
       "      <td>70132||1</td>\n",
       "      <td>None</td>\n",
       "      <td>None</td>\n",
       "      <td>None</td>\n",
       "      <td>LA15776-0</td>\n",
       "      <td>Some days</td>\n",
       "      <td>http://loinc.org</td>\n",
       "      <td>NaN</td>\n",
       "      <td>None</td>\n",
       "      <td>None</td>\n",
       "      <td>None</td>\n",
       "      <td>None</td>\n",
       "      <td>928691875025</td>\n",
       "      <td>1</td>\n",
       "      <td>Do you currently smoke cigarettes?</td>\n",
       "    </tr>\n",
       "    <tr>\n",
       "      <th>12</th>\n",
       "      <td>70133</td>\n",
       "      <td>70133||1</td>\n",
       "      <td>None</td>\n",
       "      <td>None</td>\n",
       "      <td>None</td>\n",
       "      <td>LA14799-3</td>\n",
       "      <td>Every day</td>\n",
       "      <td>http://loinc.org</td>\n",
       "      <td>NaN</td>\n",
       "      <td>None</td>\n",
       "      <td>None</td>\n",
       "      <td>None</td>\n",
       "      <td>None</td>\n",
       "      <td>928691875025</td>\n",
       "      <td>1</td>\n",
       "      <td>Do you currently smoke cigarettes?</td>\n",
       "    </tr>\n",
       "  </tbody>\n",
       "</table>\n",
       "</div>"
      ],
      "text/plain": [
       "    QuestionnaireResponse        ID AnswerItemAnswerValueString  \\\n",
       "0                   70129  70129||1                        None   \n",
       "3                   70130  70130||1                        None   \n",
       "6                   70131  70131||1                        None   \n",
       "9                   70132  70132||1                        None   \n",
       "12                  70133  70133||1                        None   \n",
       "\n",
       "   AnswerItemLinkId AnswerItemText AnswerValueCodingCode  \\\n",
       "0              None           None             LA15776-0   \n",
       "3              None           None             LA14799-3   \n",
       "6              None           None             LA14799-3   \n",
       "9              None           None             LA15776-0   \n",
       "12             None           None             LA14799-3   \n",
       "\n",
       "   AnswerValueCodingDisplay AnswerValueCodingSystem  AnswerValueDecimal  \\\n",
       "0                 Some days        http://loinc.org                 NaN   \n",
       "3                 Every day        http://loinc.org                 NaN   \n",
       "6                 Every day        http://loinc.org                 NaN   \n",
       "9                 Some days        http://loinc.org                 NaN   \n",
       "12                Every day        http://loinc.org                 NaN   \n",
       "\n",
       "   AnswerValueString ItemAnswerValueString ItemLinkId ItemText        LinkId  \\\n",
       "0               None                  None       None     None  928691875025   \n",
       "3               None                  None       None     None  928691875025   \n",
       "6               None                  None       None     None  928691875025   \n",
       "9               None                  None       None     None  928691875025   \n",
       "12              None                  None       None     None  928691875025   \n",
       "\n",
       "    QuestionnaireResponseItemsNumber                                Text  \n",
       "0                                  1  Do you currently smoke cigarettes?  \n",
       "3                                  1  Do you currently smoke cigarettes?  \n",
       "6                                  1  Do you currently smoke cigarettes?  \n",
       "9                                  1  Do you currently smoke cigarettes?  \n",
       "12                                 1  Do you currently smoke cigarettes?  "
      ]
     },
     "execution_count": 49,
     "metadata": {},
     "output_type": "execute_result"
    }
   ],
   "source": [
    "questionRIFrame.loc[questionRIFrame['LinkId'] == '928691875025']"
   ]
  },
  {
   "cell_type": "markdown",
   "id": "522e2995-ddde-46ba-a4f4-78ac9d565ba9",
   "metadata": {},
   "source": [
    "#### 3.10. what is the count of those who answered the question, do you currently smoke cigarettes?"
   ]
  },
  {
   "cell_type": "code",
   "execution_count": 52,
   "id": "c8c977d4-9cd7-4482-bcff-3dade2599869",
   "metadata": {},
   "outputs": [
    {
     "data": {
      "text/plain": [
       "AnswerValueCodingDisplay\n",
       "Every day    3\n",
       "Some days    2\n",
       "Name: count, dtype: int64"
      ]
     },
     "execution_count": 52,
     "metadata": {},
     "output_type": "execute_result"
    }
   ],
   "source": [
    "questionRIFrame.loc[questionRIFrame['LinkId'] == '928691875025']['AnswerValueCodingDisplay'].value_counts()"
   ]
  },
  {
   "cell_type": "markdown",
   "id": "177e51e9-e343-4fd6-a769-7b31c5e77b82",
   "metadata": {},
   "source": [
    "#### Find all rows that answered how many cigarettes they smoked daily (linkid = 608974165449)"
   ]
  },
  {
   "cell_type": "markdown",
   "id": "022e09ed",
   "metadata": {},
   "source": []
  },
  {
   "cell_type": "code",
   "execution_count": 53,
   "id": "ead3cc12-970c-4624-a08e-b3aa0b254fba",
   "metadata": {},
   "outputs": [
    {
     "data": {
      "text/html": [
       "<div>\n",
       "<style scoped>\n",
       "    .dataframe tbody tr th:only-of-type {\n",
       "        vertical-align: middle;\n",
       "    }\n",
       "\n",
       "    .dataframe tbody tr th {\n",
       "        vertical-align: top;\n",
       "    }\n",
       "\n",
       "    .dataframe thead th {\n",
       "        text-align: right;\n",
       "    }\n",
       "</style>\n",
       "<table border=\"1\" class=\"dataframe\">\n",
       "  <thead>\n",
       "    <tr style=\"text-align: right;\">\n",
       "      <th></th>\n",
       "      <th>QuestionnaireResponse</th>\n",
       "      <th>ID</th>\n",
       "      <th>AnswerItemAnswerValueString</th>\n",
       "      <th>AnswerItemLinkId</th>\n",
       "      <th>AnswerItemText</th>\n",
       "      <th>AnswerValueCodingCode</th>\n",
       "      <th>AnswerValueCodingDisplay</th>\n",
       "      <th>AnswerValueCodingSystem</th>\n",
       "      <th>AnswerValueDecimal</th>\n",
       "      <th>AnswerValueString</th>\n",
       "      <th>ItemAnswerValueString</th>\n",
       "      <th>ItemLinkId</th>\n",
       "      <th>ItemText</th>\n",
       "      <th>LinkId</th>\n",
       "      <th>QuestionnaireResponseItemsNumber</th>\n",
       "      <th>Text</th>\n",
       "    </tr>\n",
       "  </thead>\n",
       "  <tbody>\n",
       "    <tr>\n",
       "      <th>1</th>\n",
       "      <td>70129</td>\n",
       "      <td>70129||2</td>\n",
       "      <td>None</td>\n",
       "      <td>None</td>\n",
       "      <td>None</td>\n",
       "      <td>None</td>\n",
       "      <td>None</td>\n",
       "      <td>None</td>\n",
       "      <td>10.0</td>\n",
       "      <td>None</td>\n",
       "      <td>None</td>\n",
       "      <td>None</td>\n",
       "      <td>None</td>\n",
       "      <td>608974165449</td>\n",
       "      <td>2</td>\n",
       "      <td>How many cigarettes do you smoke per day now?</td>\n",
       "    </tr>\n",
       "    <tr>\n",
       "      <th>4</th>\n",
       "      <td>70130</td>\n",
       "      <td>70130||2</td>\n",
       "      <td>None</td>\n",
       "      <td>None</td>\n",
       "      <td>None</td>\n",
       "      <td>None</td>\n",
       "      <td>None</td>\n",
       "      <td>None</td>\n",
       "      <td>10.0</td>\n",
       "      <td>None</td>\n",
       "      <td>None</td>\n",
       "      <td>None</td>\n",
       "      <td>None</td>\n",
       "      <td>608974165449</td>\n",
       "      <td>2</td>\n",
       "      <td>How many cigarettes do you smoke per day now?</td>\n",
       "    </tr>\n",
       "    <tr>\n",
       "      <th>7</th>\n",
       "      <td>70131</td>\n",
       "      <td>70131||2</td>\n",
       "      <td>None</td>\n",
       "      <td>None</td>\n",
       "      <td>None</td>\n",
       "      <td>None</td>\n",
       "      <td>None</td>\n",
       "      <td>None</td>\n",
       "      <td>10.0</td>\n",
       "      <td>None</td>\n",
       "      <td>None</td>\n",
       "      <td>None</td>\n",
       "      <td>None</td>\n",
       "      <td>608974165449</td>\n",
       "      <td>2</td>\n",
       "      <td>How many cigarettes do you smoke per day now?</td>\n",
       "    </tr>\n",
       "    <tr>\n",
       "      <th>10</th>\n",
       "      <td>70132</td>\n",
       "      <td>70132||2</td>\n",
       "      <td>None</td>\n",
       "      <td>None</td>\n",
       "      <td>None</td>\n",
       "      <td>None</td>\n",
       "      <td>None</td>\n",
       "      <td>None</td>\n",
       "      <td>10.0</td>\n",
       "      <td>None</td>\n",
       "      <td>None</td>\n",
       "      <td>None</td>\n",
       "      <td>None</td>\n",
       "      <td>608974165449</td>\n",
       "      <td>2</td>\n",
       "      <td>How many cigarettes do you smoke per day now?</td>\n",
       "    </tr>\n",
       "    <tr>\n",
       "      <th>13</th>\n",
       "      <td>70133</td>\n",
       "      <td>70133||2</td>\n",
       "      <td>None</td>\n",
       "      <td>None</td>\n",
       "      <td>None</td>\n",
       "      <td>None</td>\n",
       "      <td>None</td>\n",
       "      <td>None</td>\n",
       "      <td>100.0</td>\n",
       "      <td>None</td>\n",
       "      <td>None</td>\n",
       "      <td>None</td>\n",
       "      <td>None</td>\n",
       "      <td>608974165449</td>\n",
       "      <td>2</td>\n",
       "      <td>How many cigarettes do you smoke per day now?</td>\n",
       "    </tr>\n",
       "  </tbody>\n",
       "</table>\n",
       "</div>"
      ],
      "text/plain": [
       "    QuestionnaireResponse        ID AnswerItemAnswerValueString  \\\n",
       "1                   70129  70129||2                        None   \n",
       "4                   70130  70130||2                        None   \n",
       "7                   70131  70131||2                        None   \n",
       "10                  70132  70132||2                        None   \n",
       "13                  70133  70133||2                        None   \n",
       "\n",
       "   AnswerItemLinkId AnswerItemText AnswerValueCodingCode  \\\n",
       "1              None           None                  None   \n",
       "4              None           None                  None   \n",
       "7              None           None                  None   \n",
       "10             None           None                  None   \n",
       "13             None           None                  None   \n",
       "\n",
       "   AnswerValueCodingDisplay AnswerValueCodingSystem  AnswerValueDecimal  \\\n",
       "1                      None                    None                10.0   \n",
       "4                      None                    None                10.0   \n",
       "7                      None                    None                10.0   \n",
       "10                     None                    None                10.0   \n",
       "13                     None                    None               100.0   \n",
       "\n",
       "   AnswerValueString ItemAnswerValueString ItemLinkId ItemText        LinkId  \\\n",
       "1               None                  None       None     None  608974165449   \n",
       "4               None                  None       None     None  608974165449   \n",
       "7               None                  None       None     None  608974165449   \n",
       "10              None                  None       None     None  608974165449   \n",
       "13              None                  None       None     None  608974165449   \n",
       "\n",
       "    QuestionnaireResponseItemsNumber  \\\n",
       "1                                  2   \n",
       "4                                  2   \n",
       "7                                  2   \n",
       "10                                 2   \n",
       "13                                 2   \n",
       "\n",
       "                                             Text  \n",
       "1   How many cigarettes do you smoke per day now?  \n",
       "4   How many cigarettes do you smoke per day now?  \n",
       "7   How many cigarettes do you smoke per day now?  \n",
       "10  How many cigarettes do you smoke per day now?  \n",
       "13  How many cigarettes do you smoke per day now?  "
      ]
     },
     "execution_count": 53,
     "metadata": {},
     "output_type": "execute_result"
    }
   ],
   "source": [
    "questionRIFrame.loc[questionRIFrame['LinkId'] == '608974165449']"
   ]
  },
  {
   "cell_type": "markdown",
   "id": "684b5f91-5bd8-46c4-8606-d3a3999452c9",
   "metadata": {},
   "source": [
    "#### Show the value counts in the column 'AnswerValueDecimal'"
   ]
  },
  {
   "cell_type": "code",
   "execution_count": 54,
   "id": "2455cb16",
   "metadata": {},
   "outputs": [
    {
     "data": {
      "text/plain": [
       "AnswerValueDecimal\n",
       "10.0     4\n",
       "100.0    1\n",
       "Name: count, dtype: int64"
      ]
     },
     "execution_count": 54,
     "metadata": {},
     "output_type": "execute_result"
    }
   ],
   "source": [
    "questionRIFrame.loc[questionRIFrame['LinkId'] == '608974165449']['AnswerValueDecimal'].value_counts()"
   ]
  },
  {
   "cell_type": "code",
   "execution_count": null,
   "id": "00d609ab-ccb2-4ae6-9680-e5b8cf3e7761",
   "metadata": {},
   "outputs": [
    {
     "data": {
      "text/plain": [
       "np.float64(28.0)"
      ]
     },
     "execution_count": 56,
     "metadata": {},
     "output_type": "execute_result"
    }
   ],
   "source": [
    "questionRIFrame.loc[questionRIFrame['LinkId'] == '608974165449']['AnswerValueDecimal'].mean()"
   ]
  },
  {
   "cell_type": "markdown",
   "id": "5920c62a-cf9b-4174-b616-1906a65d3ca6",
   "metadata": {},
   "source": [
    "#### Find all rows that answered the age they started smoking cigarettes (linkid = 529023452708)"
   ]
  },
  {
   "cell_type": "code",
   "execution_count": 58,
   "id": "f506c854-fb37-4efc-b8b8-6bf0f60a4bbd",
   "metadata": {},
   "outputs": [
    {
     "data": {
      "text/plain": [
       "AnswerValueDecimal\n",
       "15.0    4\n",
       "24.0    1\n",
       "Name: count, dtype: int64"
      ]
     },
     "execution_count": 58,
     "metadata": {},
     "output_type": "execute_result"
    }
   ],
   "source": [
    "questionRIFrame.loc[questionRIFrame['LinkId'] == '529023452708']['AnswerValueDecimal'].value_counts()"
   ]
  },
  {
   "cell_type": "markdown",
   "id": "8bc55471-b613-4d9b-b020-11b99dae7dff",
   "metadata": {},
   "source": [
    "### What was the mean age they started to smoke"
   ]
  },
  {
   "cell_type": "code",
   "execution_count": 60,
   "id": "2710b182-4e39-433d-91cf-497a8e9e9e0c",
   "metadata": {},
   "outputs": [
    {
     "data": {
      "text/plain": [
       "np.float64(16.8)"
      ]
     },
     "execution_count": 60,
     "metadata": {},
     "output_type": "execute_result"
    }
   ],
   "source": [
    "questionRIFrame.loc[questionRIFrame['LinkId'] == '529023452708']['AnswerValueDecimal'].mean()"
   ]
  },
  {
   "cell_type": "markdown",
   "id": "64659e1a-569c-450e-a732-a847c5b9d2e5",
   "metadata": {},
   "source": [
    "### Check out the video, Complete Pandas Data Science Totutorial (2024 Updated Edition) by Keith Galli"
   ]
  },
  {
   "cell_type": "markdown",
   "id": "9f8bbf0e-92c2-4afa-9692-7e051c512352",
   "metadata": {},
   "source": [
    "##### https://www.youtube.com/watch?v=2uvysYbKdjM"
   ]
  }
 ],
 "metadata": {
  "kernelspec": {
   "display_name": "3.12.8",
   "language": "python",
   "name": "python3"
  },
  "language_info": {
   "codemirror_mode": {
    "name": "ipython",
    "version": 3
   },
   "file_extension": ".py",
   "mimetype": "text/x-python",
   "name": "python",
   "nbconvert_exporter": "python",
   "pygments_lexer": "ipython3",
   "version": "3.12.8"
  }
 },
 "nbformat": 4,
 "nbformat_minor": 5
}
